{
 "cells": [
  {
   "cell_type": "markdown",
   "metadata": {},
   "source": [
    "## Συντακτικό της Python"
   ]
  },
  {
   "cell_type": "markdown",
   "metadata": {},
   "source": [
    "### 1. Tέλεστές\n",
    "Τελεστές πράξεων ως παρακάτω:\n",
    "                   * Πρόσθεση και Αφαίρεση (+ & -)\n",
    "                   * Πολλαπλασιασμός και διαίρεση (* & /)\n",
    "                   * Ύψωση σε δύναμη (**)"
   ]
  },
  {
   "cell_type": "markdown",
   "metadata": {},
   "source": [
    "### Παρατήρηση: Δυναμική εκχώρηση μνήμης\n",
    "\n",
    "   Κατά την εκτέλεση της πράξεις Α=3χ250^1000 ο intepreter παρ΄'ολο που είναι ένας αριθμός που **εκ'φεύγει του μέγιστου που μπορούμε να έχουμε από τα 64-bit αναθέτη θέσης μνήμης επέκτασης για την εσωτερική αναπαράσταση του αριθμού.**"
   ]
  },
  {
   "cell_type": "markdown",
   "metadata": {},
   "source": [
    "250**600"
   ]
  },
  {
   "cell_type": "markdown",
   "metadata": {},
   "source": [
    "## 2. Πίνακες {array} ή καλύτερα Vectors\n",
    "\n",
    "+ To index ξεκινάει από το 0"
   ]
  },
  {
   "cell_type": "code",
   "execution_count": 1,
   "metadata": {},
   "outputs": [
    {
     "data": {
      "text/plain": [
       "8"
      ]
     },
     "execution_count": 1,
     "metadata": {},
     "output_type": "execute_result"
    }
   ],
   "source": [
    "c=\"abcdefgh\" ##αλφθαρμητικό με μήκος 8 συμβόλων c-> char[8]\n",
    "len(c)\n"
   ]
  },
  {
   "cell_type": "markdown",
   "metadata": {},
   "source": [
    "<html>\n",
    "<table>\n",
    "    <tr><th>Char No:</th><td>1</td><td>2</td><td>3</td><td>4</td><td>5</td><td>6</td><td>7</td><td>8</td></tr>\n",
    "    <tr><th>String:</th><td>a</td><td>b</td><td>c</td><td>d</td><td>e</td><td>f</td><td>g</td><td>h</td></tr>\n",
    "    <tr><th>Index (fwd) No:</th><td>0</td><td>1</td><td>2</td><td>3</td><td>4</td><td>5</td><td>6</td><td>7</td></tr>\n",
    "    <tr><th>Index (rev) No:</th><td>-8</td><td>-7</td><td>-6</td><td>-5</td><td>-4</td><td>-3</td><td>-2</td><td>-1</td></tr>\n",
    "</table>\n",
    "</html>\n",
    "\n",
    "#### <strong><u>Vector Slicing</u></strong>\n",
    "\n",
    "* O τρόπος με τον οποίο ανακαλούμε μέρος του πίνακα είναι:\n",
    "\n",
    "<center><strong>vector_name[start_index:stop_index:step]</strong></center>\n"
   ]
  },
  {
   "cell_type": "code",
   "execution_count": 2,
   "metadata": {},
   "outputs": [
    {
     "data": {
      "text/plain": [
       "'bdf'"
      ]
     },
     "execution_count": 2,
     "metadata": {},
     "output_type": "execute_result"
    }
   ],
   "source": [
    "c[1:6:2]"
   ]
  },
  {
   "cell_type": "markdown",
   "metadata": {},
   "source": [
    "* Αντιστοφή του πίνακα : <strong>vector_name[::-1]</strong>"
   ]
  },
  {
   "cell_type": "code",
   "execution_count": 3,
   "metadata": {},
   "outputs": [
    {
     "data": {
      "text/plain": [
       "'hgfedcba'"
      ]
     },
     "execution_count": 3,
     "metadata": {},
     "output_type": "execute_result"
    }
   ],
   "source": [
    "c[::-1]"
   ]
  },
  {
   "cell_type": "markdown",
   "metadata": {},
   "source": [
    "* Αντιστροφή οχι όλου του πίνακα αλλά συγκεκριμένου υπό-πίνακα: <strong>vector_name[start_index:stop_index][::-1]</strong>\n",
    "Ουσιαστικά η παραπάνω λειτουργία γίνεται σε δύο κομμάτια:\n",
    "   1.  Την εξαγωγή του υπο-πίνακα που σηματοδοτήτε από το κομμάτι <strong>vector_name[start_index:stop_index]</strong>\n",
    "   2.  Την αντιστροφή του εξαγώμενου πίνακα,που σηματοδοτήτε από το δεύτερο κομμάτι:<strong>[::-1]</strong>"
   ]
  },
  {
   "cell_type": "code",
   "execution_count": 4,
   "metadata": {},
   "outputs": [
    {
     "data": {
      "text/plain": [
       "'hgfed'"
      ]
     },
     "execution_count": 4,
     "metadata": {},
     "output_type": "execute_result"
    }
   ],
   "source": [
    "c[3:][::-1]"
   ]
  },
  {
   "cell_type": "markdown",
   "metadata": {},
   "source": [
    "###### <u>Παρατήρηση</u>\n",
    "Το παραπάνω μπορεί να πραγματοποιήθει με την χρήση της αρνητικής αρίθμισης των θέσεων με την χρήση της παρακάτω σύνταξης\n",
    "<center><strong>vector_name[neg_start_index:neg_stop_index:-1]</strong></center>"
   ]
  },
  {
   "cell_type": "code",
   "execution_count": 5,
   "metadata": {},
   "outputs": [
    {
     "data": {
      "text/plain": [
       "'hgfed'"
      ]
     },
     "execution_count": 5,
     "metadata": {},
     "output_type": "execute_result"
    }
   ],
   "source": [
    "c[-1:-6:-1]\n",
    "## Κάτι πάει στραβά, εδώ?"
   ]
  },
  {
   "cell_type": "markdown",
   "metadata": {},
   "source": [
    "* Αρίθμηση του πόσες φορές απαντάτε ένα σύμβολο σε μια συμβολόσειρα (vector) με την χρήση της μεθόδου <strong><u>count</u></strong> με την παρακάτω σύνταξη:\n",
    "<center><strong>Vector_name.count(\"Character vector for search\")</strong></center>"
   ]
  },
  {
   "cell_type": "code",
   "execution_count": 6,
   "metadata": {},
   "outputs": [
    {
     "name": "stdout",
     "output_type": "stream",
     "text": [
      "Bernard Hinault (pronounced [bɛʁ.naʁ i.no]; born 14 November 1954) is a French former professional cyclist. With 147 professional victories,[1] including five in the Tour de France, he is often named among the greatest cyclists of all time.\n",
      "\n",
      "Hinault started cycling as an amateur in his native Brittany. After a successful amateur career, he signed with the Gitane–Campagnolo team to turn professional in 1975. He took breakthrough victories at both the Liège–Bastogne–Liège classic and the Critérium du Dauphiné Libéré stage race in 1977. In 1978, he won his first two Grand Tours: the Vuelta a España and the Tour de France. In the following years, he was the most successful professional cyclist, adding another Tour victory in 1979 and a win at the 1980 Giro d'Italia. Although a knee injury forced him to quit the 1980 Tour de France while in the lead, he returned to win the World Championship road race later in the year. He added another Tour victory in 1981, before completing his first Giro-Tour double in 1982.\n",
      "\n",
      "After winning the 1983 Vuelta a España, a return of his knee problems forced him to miss that year's Tour de France, won by his teammate Laurent Fignon. Tensions within the Renault team led to his leaving and joining La Vie Claire. With his new team, he raced the 1984 Tour de France, being comprehensively beaten by Fignon. He recovered the following year, winning another Giro-Tour double with the help of teammate Greg LeMond. In the 1986 Tour de France, he engaged in an intra-team rivalry with LeMond, who won his first of three Tours. Hinault retired shortly thereafter. He remains the most recent French winner of the Tour de France. After his cycling career, Hinault turned to farming, while fulfilling representative duties for the organisers of the Tour de France, a position he held until 2016.\n",
      "\n",
      "All through his career, Hinault was known by the nickname le blaireau, a term translated in English as \"badger\", while the original French can also mean \"shaving brush\". He associated himself with the animal on the grounds of its aggressive nature, a trait he embodied on the bike. Within the peloton (the field of riders), Hinault assumed the role of patron, meaning that he exercised authority over races he took part in.\n"
     ]
    }
   ],
   "source": [
    "### \"\"\"Με τα triple double quotes μπορούμε να εισάγουμε κείμενα πολλών γραμμών και που χρησιμοποιούν εσωτερικά στο σώμα\n",
    "### simple quote ' ή double quote \".\n",
    "text=\"\"\"Bernard Hinault (pronounced [bɛʁ.naʁ i.no]; born 14 November 1954) is a French former professional cyclist. With 147 professional victories,[1] including five in the Tour de France, he is often named among the greatest cyclists of all time.\n",
    "\n",
    "Hinault started cycling as an amateur in his native Brittany. After a successful amateur career, he signed with the Gitane–Campagnolo team to turn professional in 1975. He took breakthrough victories at both the Liège–Bastogne–Liège classic and the Critérium du Dauphiné Libéré stage race in 1977. In 1978, he won his first two Grand Tours: the Vuelta a España and the Tour de France. In the following years, he was the most successful professional cyclist, adding another Tour victory in 1979 and a win at the 1980 Giro d'Italia. Although a knee injury forced him to quit the 1980 Tour de France while in the lead, he returned to win the World Championship road race later in the year. He added another Tour victory in 1981, before completing his first Giro-Tour double in 1982.\n",
    "\n",
    "After winning the 1983 Vuelta a España, a return of his knee problems forced him to miss that year's Tour de France, won by his teammate Laurent Fignon. Tensions within the Renault team led to his leaving and joining La Vie Claire. With his new team, he raced the 1984 Tour de France, being comprehensively beaten by Fignon. He recovered the following year, winning another Giro-Tour double with the help of teammate Greg LeMond. In the 1986 Tour de France, he engaged in an intra-team rivalry with LeMond, who won his first of three Tours. Hinault retired shortly thereafter. He remains the most recent French winner of the Tour de France. After his cycling career, Hinault turned to farming, while fulfilling representative duties for the organisers of the Tour de France, a position he held until 2016.\n",
    "\n",
    "All through his career, Hinault was known by the nickname le blaireau, a term translated in English as \"badger\", while the original French can also mean \"shaving brush\". He associated himself with the animal on the grounds of its aggressive nature, a trait he embodied on the bike. Within the peloton (the field of riders), Hinault assumed the role of patron, meaning that he exercised authority over races he took part in.\"\"\"\n",
    "\n",
    "print(text)"
   ]
  },
  {
   "cell_type": "code",
   "execution_count": 7,
   "metadata": {},
   "outputs": [
    {
     "name": "stdout",
     "output_type": "stream",
     "text": [
      "Η πρός αναζήτηση συμβολοσειρά France απαντάτε στο κείμενο 8 φορές\n"
     ]
    }
   ],
   "source": [
    "## Αρίθμηση μιας συβολοσειράς\n",
    "find=\"France\" ##O πρός αναζήτηση όρος.\n",
    "print(\"Η πρός αναζήτηση συμβολοσειρά {} απαντάτε στο κείμενο {} φορές\".format(find,text.count(find)))"
   ]
  },
  {
   "cell_type": "markdown",
   "metadata": {},
   "source": [
    "<strong>Πότε είναι η πρώτη φορά που απαντάτε, η παραπάνω συμβολοσειρά?<strong>"
   ]
  },
  {
   "cell_type": "code",
   "execution_count": 8,
   "metadata": {},
   "outputs": [
    {
     "name": "stdout",
     "output_type": "stream",
     "text": [
      "Το index της θέσης που ξεκινάει για πρώτη φορά η συμβολοσειρά, France , είναι: 174 θέση.\n"
     ]
    }
   ],
   "source": [
    "if (text.count(find)>0):\n",
    "    print(\"Το index της θέσης που ξεκινάει για πρώτη φορά η συμβολοσειρά, {} , είναι: {} θέση.\".format(find,text.index(find)))\n",
    "else:\n",
    "    print(\"Ο εν λόγω όρρος δεν υπάρχει\")"
   ]
  },
  {
   "cell_type": "markdown",
   "metadata": {},
   "source": [
    "οπότε το επόμενο λογικό βήμα είναι αν θέλουμε να βρούμε την επόμενη θέση που απαντάτε η εν λόγω συμβολοσειρά πρέπε να πάρουμε ενα υπο-πίνακα του αρχικού ο οποίος ξεκινάει μετα την παραπάνω συνάντηση της συμβολοσειράς."
   ]
  },
  {
   "cell_type": "code",
   "execution_count": 9,
   "metadata": {},
   "outputs": [
    {
     "name": "stdout",
     "output_type": "stream",
     "text": [
      "438\n"
     ]
    }
   ],
   "source": [
    "if (text.count(find)==0):\n",
    "    print(\"Ο εν λόγω όρρος δεν υπάρχει\")\n",
    "elif (text.count(find)==1):\n",
    "    print(\"O εν λόγω όρος \\\"{}\\\" δεν απαντάτε δεύτερη φορά.\".format(find))\n",
    "else:\n",
    "    start_index=text.index(find)+len(find)+1\n",
    "    sec_inc=text[start_index:].index(find)\n",
    "    print(sec_inc)"
   ]
  },
  {
   "cell_type": "code",
   "execution_count": 10,
   "metadata": {},
   "outputs": [
    {
     "data": {
      "text/plain": [
       "'ies at'"
      ]
     },
     "execution_count": 10,
     "metadata": {},
     "output_type": "execute_result"
    }
   ],
   "source": [
    "text[sec_inc:sec_inc+len(find)]\n",
    "##Κάτι πάει στραβά με το Indexing του υποπίνακα..."
   ]
  },
  {
   "cell_type": "markdown",
   "metadata": {},
   "source": [
    "### Παρατήρηση\n",
    "<center>Όταν δημιουργήσουμε ένα υπο-πίνακα το index του πρώτου στοιχείου είναι το <u><strong><span style=\"color:red;\">0</span></strong></u> και <u><strong><span style=\"color:red;\">όχι αυτό που είχε στον προηγούμενο πίνακα</span></strong></u>.</center>"
   ]
  },
  {
   "cell_type": "code",
   "execution_count": 11,
   "metadata": {},
   "outputs": [
    {
     "data": {
      "text/plain": [
       "'France'"
      ]
     },
     "execution_count": 11,
     "metadata": {},
     "output_type": "execute_result"
    }
   ],
   "source": [
    "##Διορθώνουμε την βάση αναφοράς του εν λόγω index\n",
    "corrected_sec_inc=sec_inc+start_index\n",
    "text[corrected_sec_inc:corrected_sec_inc+len(find)]"
   ]
  },
  {
   "cell_type": "code",
   "execution_count": 12,
   "metadata": {},
   "outputs": [
    {
     "name": "stdout",
     "output_type": "stream",
     "text": [
      "Η 1η φορά,που απαντάτε η εν λόγω συμβολοσειρά, βρίσκεται στην θέση 174 και πράγματι έχουμε: \"France\"\n",
      "Η 2η φορά,που απαντάτε η εν λόγω συμβολοσειρά, βρίσκεται στην θέση 619 και πράγματι έχουμε: \"France\"\n",
      "Η 3η φορά,που απαντάτε η εν λόγω συμβολοσειρά, βρίσκεται στην θέση 832 και πράγματι έχουμε: \"France\"\n",
      "Η 4η φορά,που απαντάτε η εν λόγω συμβολοσειρά, βρίσκεται στην θέση 1132 και πράγματι έχουμε: \"France\"\n",
      "Η 5η φορά,που απαντάτε η εν λόγω συμβολοσειρά, βρίσκεται στην θέση 1300 και πράγματι έχουμε: \"France\"\n",
      "Η 6η φορά,που απαντάτε η εν λόγω συμβολοσειρά, βρίσκεται στην θέση 1473 και πράγματι έχουμε: \"France\"\n",
      "Η 7η φορά,που απαντάτε η εν λόγω συμβολοσειρά, βρίσκεται στην θέση 1656 και πράγματι έχουμε: \"France\"\n",
      "Η 8η φορά,που απαντάτε η εν λόγω συμβολοσειρά, βρίσκεται στην θέση 1790 και πράγματι έχουμε: \"France\"\n"
     ]
    }
   ],
   "source": [
    "\"Η πρός αναζήτηση συμβολοσειρά {} απαντάτε στο κείμενο {} φορές\".format(find,text.count(find))\n",
    "i=1 ##Μεταβλήτη αρίθμησις των κύκλων επανάληψης.\n",
    "temporal_index_store=0 ##Κάνει ότι λέει.\n",
    "if (text.count(find)==1):\n",
    "    a=text[temporal_index_store:].index(find)+temporal_index_store\n",
    "    print(\"Η μία φορά,που απαντάτε η εν λόγω συμβολοσειρά βρίσκεται στην θέση {} και πράγματι έχουμε: \\\"{}\\\"\".format(a,text[a:a+len(find)]))\n",
    "elif (text.count(find)>1):\n",
    "    while (i<=text.count(find)):\n",
    "        a=text[temporal_index_store:].index(find)+temporal_index_store\n",
    "        print(\"Η {}η φορά,που απαντάτε η εν λόγω συμβολοσειρά, βρίσκεται στην θέση {} και πράγματι έχουμε: \\\"{}\\\"\".format(i,a,text[a:a+len(find)]))\n",
    "        temporal_index_store=a+len(find)+1\n",
    "        i=i+1\n",
    "else:\n",
    "     print(\"Ο εν λόγω όρρος δεν υπάρχει\")"
   ]
  }
 ],
 "metadata": {
  "kernelspec": {
   "display_name": "Python 3",
   "language": "python",
   "name": "python3"
  },
  "language_info": {
   "codemirror_mode": {
    "name": "ipython",
    "version": 3
   },
   "file_extension": ".py",
   "mimetype": "text/x-python",
   "name": "python",
   "nbconvert_exporter": "python",
   "pygments_lexer": "ipython3",
   "version": "3.7.1"
  }
 },
 "nbformat": 4,
 "nbformat_minor": 2
}
