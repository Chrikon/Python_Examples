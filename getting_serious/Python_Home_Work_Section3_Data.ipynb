{
 "cells": [
  {
   "cell_type": "code",
   "execution_count": 1,
   "metadata": {},
   "outputs": [],
   "source": [
    "#Datasets\n",
    "revenue = [14574.49, 7606.46, 8611.41, 9175.41, 8058.65, 8105.44, 11496.28, 9766.09, 10305.32, 14379.96, 10713.97, 15433.50]\n",
    "expenses = [12051.82, 5695.07, 12319.20, 12089.72, 8658.57, 840.20, 3285.73, 5821.12, 6976.93, 16618.61, 10054.37, 3803.96]"
   ]
  },
  {
   "cell_type": "markdown",
   "metadata": {},
   "source": [
    "# Άσκηση κατανόησης\n",
    "\n",
    "   Στην παρούσα άσκηση προκειτέ να επιλύσουμε το παρακάτω οικονομικό πρόβλημα με την χρήση δύο (2) συνόλων δεδομένων που αφορούν στα έσοδα και έξοδα μίας εταιρείας από τα οποία θέλουμε να εξάγουμε τα παρακάτω:\n",
    "    \n",
    "   * Το **ακαθάριστο κέρδος (accounting profit)** του κάθε μήνα\n",
    "   * Tο **καθαρό κέρδος (after tax profit)** του κάθε μήνα\n",
    "   * Το **ανηγμένο καθαρό κέρδός (profit margin)** του κάθε μήνα<sup style=\"color:red\">(1)</sup>\n",
    "   * Τούς **καλούς μήνες** του έτους<sup style=\"color:red\">(2)</sup>\n",
    "   * Τούς **κακκούς μήνες** του έτους<sup style=\"color:red\">(3)</sup>\n",
    "   * Τον **\"καλύτερο μήνα\"** του έτους<sup style=\"color:red\">(4)</sup>\n",
    "   * Τον **χειρότηρο μήνα** του έτους<sup style=\"color:red\">(5)</sup>\n",
    "   \n",
    "## Σημειώσεις\n",
    "\n",
    "   1. Το κλάσμα του (καθαρού κέρδους του μήνα)/(κέρδη του μήνα/revenue).\n",
    "   2. Είναι η μήνες όπου (καθαρό κέρδος του μήνα) >= (μ.ο. του καθαρού κέρδους για το έτος), σύνολο G.\n",
    "   3. Είναι η μήνες όπου (καθαρό κέρδος του μήνα) < (μ.ο. του καθαρού κέρδους για το έτος), σύνολο B.\n",
    "   4. Είναι ο μήνας του συνόλου G που παρουσιάζει την μεγαλύτερη τιμή.\n",
    "   5. Είναι ο μήνας του συνόλου Β που παρουσιάζει την χαμηλότερη τιμή.\n",
    "   \n",
    "   * Όλα τα αποτελέσματα πρέπει να παρουσιάζωνται ως vectors.\n",
    "   * Ο βαθμός ακρίβειας τον χρηματικών ποσών πρέπει να είναι τις τάξεως των δύο (2) δεκαδικών ψηφίων αλλά η παρουσίαση θα γίνει στην ανηγμένη μονάδα των 1.000 USD.\n"
   ]
  },
  {
   "cell_type": "markdown",
   "metadata": {},
   "source": [
    "---\n",
    "### Answers\n",
    "\n",
    "1. Accounting profit"
   ]
  },
  {
   "cell_type": "code",
   "execution_count": 2,
   "metadata": {},
   "outputs": [],
   "source": [
    "import numpy as np"
   ]
  },
  {
   "cell_type": "code",
   "execution_count": 3,
   "metadata": {},
   "outputs": [],
   "source": [
    "revenue=np.array(revenue)\n",
    "expenses=np.array(expenses)"
   ]
  },
  {
   "cell_type": "code",
   "execution_count": 4,
   "metadata": {},
   "outputs": [],
   "source": [
    "months=np.array([\"January\",\"Febuary\",\"March\",\"April\",\"May\",\"June\",\"July\",\"August\",\"September\",\"Octomber\",\"November\",\"December\"])"
   ]
  },
  {
   "cell_type": "code",
   "execution_count": 5,
   "metadata": {},
   "outputs": [
    {
     "name": "stdout",
     "output_type": "stream",
     "text": [
      "[ 2522.67  1911.39 -3707.79 -2914.31  -599.92  7265.24  8210.55  3944.97\n",
      "  3328.39 -2238.65   659.6  11629.54]\n"
     ]
    }
   ],
   "source": [
    "acc_profit=revenue-expenses\n",
    "print(acc_profit)\n"
   ]
  },
  {
   "cell_type": "markdown",
   "metadata": {},
   "source": [
    "2. After tax profit"
   ]
  },
  {
   "cell_type": "code",
   "execution_count": 6,
   "metadata": {},
   "outputs": [
    {
     "name": "stdout",
     "output_type": "stream",
     "text": [
      "[ 1765.87  1337.97 -2595.45 -2040.02  -419.94  5085.67  5747.38  2761.48\n",
      "  2329.87 -1567.06   461.72  8140.68]\n"
     ]
    }
   ],
   "source": [
    "tax=0.3 # 30% tax rate\n",
    "profit=(-acc_profit*(tax))+acc_profit\n",
    "print(profit.round(2))"
   ]
  },
  {
   "cell_type": "markdown",
   "metadata": {},
   "source": [
    "3. Monthly accounting profit ratio to monthly revenues\n"
   ]
  },
  {
   "cell_type": "code",
   "execution_count": 7,
   "metadata": {},
   "outputs": [
    {
     "name": "stdout",
     "output_type": "stream",
     "text": [
      "[ 12.12  17.59 -30.14 -22.23  -5.21  62.74  49.99  28.28  22.61 -10.9\n",
      "   4.31  52.75]\n"
     ]
    }
   ],
   "source": [
    "profit_margin=profit*100/revenue\n",
    "#sos rounding method,nice\n",
    "\n",
    "# profit_margin=[round(i,2) for i in profit_margin]\n",
    "#or use the numpy method of the array object is quicker and more efficient\n",
    "print(profit_margin.round(2))"
   ]
  },
  {
   "cell_type": "markdown",
   "metadata": {},
   "source": [
    "4. Good month field"
   ]
  },
  {
   "cell_type": "code",
   "execution_count": 8,
   "metadata": {},
   "outputs": [
    {
     "name": "stdout",
     "output_type": "stream",
     "text": [
      "The good months are: \n",
      "['January' 'June' 'July' 'August' 'September' 'December']\n"
     ]
    }
   ],
   "source": [
    "G=profit>=profit.mean()\n",
    "#print(G)\n",
    "print(\"The good months are: \")\n",
    "print(months[G])"
   ]
  },
  {
   "cell_type": "markdown",
   "metadata": {},
   "source": [
    "5. Bad month field"
   ]
  },
  {
   "cell_type": "code",
   "execution_count": 9,
   "metadata": {},
   "outputs": [
    {
     "name": "stdout",
     "output_type": "stream",
     "text": [
      "The bad months are: \n",
      "['Febuary' 'March' 'April' 'May' 'Octomber' 'November']\n"
     ]
    }
   ],
   "source": [
    "B=profit<profit.mean()\n",
    "print(\"The bad months are: \")\n",
    "print(months[B])"
   ]
  },
  {
   "cell_type": "markdown",
   "metadata": {},
   "source": [
    "6. The month with the biggest earnings"
   ]
  },
  {
   "cell_type": "code",
   "execution_count": 10,
   "metadata": {},
   "outputs": [
    {
     "name": "stdout",
     "output_type": "stream",
     "text": [
      "['December']\n"
     ]
    }
   ],
   "source": [
    "maxim=(profit==profit.max())\n",
    "print(months[maxim])"
   ]
  },
  {
   "cell_type": "markdown",
   "metadata": {},
   "source": [
    "7. The month with thw lowest earnings"
   ]
  },
  {
   "cell_type": "code",
   "execution_count": 11,
   "metadata": {},
   "outputs": [
    {
     "name": "stdout",
     "output_type": "stream",
     "text": [
      "['March']\n"
     ]
    }
   ],
   "source": [
    "maxim=(profit==profit.min())\n",
    "print(months[maxim])"
   ]
  },
  {
   "cell_type": "markdown",
   "metadata": {},
   "source": [
    "---"
   ]
  },
  {
   "cell_type": "markdown",
   "metadata": {},
   "source": [
    "\n",
    "** Στον δίπλα υπερσύνδεσμο παρατίθεται η <a href=\"./Python_Home_Work_Section3-Fill-The-Blanks.ipynb\">επίλυση</a> από τους δημιουργούς του course, χωρίς την χρήση της numpy library."
   ]
  },
  {
   "cell_type": "markdown",
   "metadata": {},
   "source": [
    "<span style=\"float:right\">® X.K</span>"
   ]
  }
 ],
 "metadata": {
  "kernelspec": {
   "display_name": "Python 3",
   "language": "python",
   "name": "python3"
  },
  "language_info": {
   "codemirror_mode": {
    "name": "ipython",
    "version": 3
   },
   "file_extension": ".py",
   "mimetype": "text/x-python",
   "name": "python",
   "nbconvert_exporter": "python",
   "pygments_lexer": "ipython3",
   "version": "3.7.1"
  }
 },
 "nbformat": 4,
 "nbformat_minor": 1
}
