{
 "cells": [
  {
   "cell_type": "markdown",
   "metadata": {},
   "source": [
    "# Άσκηση κατανόησης\n",
    "\n",
    "   Στην παρούσα άσκηση προκειτέ να επιλύσουμε το παρακάτω οικονομικό πρόβλημα με την χρήση δύο (2) συνόλων δεδομένων που αφορούν στα έσοδα και έξοδα μίας εταιρείας από τα οποία θέλουμε να εξάγουμε τα παρακάτω:\n",
    "    \n",
    "   * Το **μικτό κέρδος** του κάθε μήνα\n",
    "   * Tο **καθαρό κέρδος (after tax profit)** του κάθε μήνα\n",
    "   * Το **ανηγμένο καθαρό κέρδός (profit margin)** του κάθε μήνα<sup style=\"color:red\">(1)</sup>\n",
    "   * Τούς **καλούς μήνες** του έτους<sup style=\"color:red\">(2)</sup>\n",
    "   * Τούς **κακκούς μήνες** του έτους<sup style=\"color:red\">(3)</sup>\n",
    "   * Τον **\"καλύτερο μήνα\"** του έτους<sup style=\"color:red\">(4)</sup>\n",
    "   * Τον **χειρότηρο μήνα** του έτους<sup style=\"color:red\">(5)</sup>\n",
    "   \n",
    "## Σημειώσεις\n",
    "\n",
    "   1. Το κλάσμα του (καθαρού κέρδους του μήνα)/(κέρδη του μήνα/revenue).\n",
    "   2. Είναι η μήνες όπου (καθαρό κέρδος του μήνα) >= (μ.ο. του καθαρού κέρδους για το έτος), σύνολο G.\n",
    "   3. Είναι η μήνες όπου (καθαρό κέρδος του μήνα) < (μ.ο. του καθαρού κέρδους για το έτος), σύνολο B.\n",
    "   4. Είναι ο μήνας του συνόλου G που παρουσιάζει την μεγαλύτερη τιμή.\n",
    "   5. Είναι ο μήνας του συνόλου Β που παρουσιάζει την χαμηλότερη τιμή.\n",
    "   \n",
    "   * Όλα τα αποτελέσματα πρέπει να παρουσιάζωνται ως vectors.\n",
    "   * Ο βαθμός ακρίβειας τον χρηματικών ποσών πρέπει να είναι τις τάξεως των δύο (2) δεκαδικών ψηφίων αλλά η παρουσίαση θα γίνει στην ανηγμένη μονάδα των 1.000 USD.\n"
   ]
  },
  {
   "cell_type": "markdown",
   "metadata": {},
   "source": [
    "---"
   ]
  },
  {
   "cell_type": "code",
   "execution_count": 5,
   "metadata": {},
   "outputs": [],
   "source": [
    "import pandas as pd"
   ]
  },
  {
   "cell_type": "code",
   "execution_count": null,
   "metadata": {},
   "outputs": [],
   "source": []
  },
  {
   "cell_type": "code",
   "execution_count": null,
   "metadata": {},
   "outputs": [],
   "source": []
  },
  {
   "cell_type": "code",
   "execution_count": null,
   "metadata": {},
   "outputs": [],
   "source": []
  }
 ],
 "metadata": {
  "kernelspec": {
   "display_name": "Python 3",
   "language": "python",
   "name": "python3"
  },
  "language_info": {
   "codemirror_mode": {
    "name": "ipython",
    "version": 3
   },
   "file_extension": ".py",
   "mimetype": "text/x-python",
   "name": "python",
   "nbconvert_exporter": "python",
   "pygments_lexer": "ipython3",
   "version": "3.7.1"
  }
 },
 "nbformat": 4,
 "nbformat_minor": 2
}
