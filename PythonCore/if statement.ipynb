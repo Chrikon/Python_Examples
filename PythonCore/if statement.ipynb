{
 "cells": [
  {
   "cell_type": "markdown",
   "metadata": {},
   "source": [
    "<h1>The if statement</h1>\n",
    "<h4>Normal syntax</h4>\n",
    "<p>if (loggical statement to check):<br>\n",
    " --->if True block of code to execute<br>\n",
    " else:<br>\n",
    " --->if False block of code to be executed</p>\n",
    " <h4>Equivelant syntax</h4>\n",
    " <p>if (loggical statement to check):<br>\n",
    " --->if True block of code to execute<br>\n",
    "    elif (another loggical statement to check):<br>\n",
    " --->if True block of code to execute<br>\n",
    "    elif (another loggical statement to check):<br>\n",
    " --->if True block of code to execute<br>\n",
    "    ...<br>\n",
    " else:<br>\n",
    " --->if all the above are False, block of code to be executed</p>"
   ]
  },
  {
   "cell_type": "code",
   "execution_count": 12,
   "metadata": {},
   "outputs": [],
   "source": [
    "import numpy\n",
    "from numpy.random import randn"
   ]
  },
  {
   "cell_type": "code",
   "execution_count": 13,
   "metadata": {},
   "outputs": [
    {
     "name": "stdout",
     "output_type": "stream",
     "text": [
      "Zone A is 68.34%\n",
      "Zone B is 15.95%\n",
      "Zone C is 15.71%\n"
     ]
    }
   ],
   "source": [
    "\n",
    "N=100000 #Number of itteration through the luck experiment\n",
    "m=0     #E(X) mean of the itteration space\n",
    "s=1     #Standard diviasion of iteration space\n",
    "x=0     #Experiment result\n",
    "zone_a=0\n",
    "zone_b=0\n",
    "zone_c=0\n",
    "for i in range(N):\n",
    "    x=randn()\n",
    "    if((x<=(s-m))and(x>=-(s-m))):\n",
    "        zone_a=zone_a+1\n",
    "    elif ((x>(s-m))):\n",
    "        zone_b=zone_b+1\n",
    "    else:\n",
    "        zone_c=zone_c+1\n",
    "zone_a=round(100*(zone_a/N),2)    \n",
    "zone_b=round(100*(zone_b/N),2)\n",
    "zone_c=round(100*(zone_c/N),2)\n",
    "print(\"Zone A is \"+str(zone_a)+\"%\")\n",
    "print(\"Zone B is \"+str(zone_b)+\"%\")\n",
    "print(\"Zone C is \"+str(zone_c)+\"%\")"
   ]
  },
  {
   "cell_type": "code",
   "execution_count": null,
   "metadata": {},
   "outputs": [],
   "source": []
  }
 ],
 "metadata": {
  "kernelspec": {
   "display_name": "Python 3",
   "language": "python",
   "name": "python3"
  },
  "language_info": {
   "codemirror_mode": {
    "name": "ipython",
    "version": 3
   },
   "file_extension": ".py",
   "mimetype": "text/x-python",
   "name": "python",
   "nbconvert_exporter": "python",
   "pygments_lexer": "ipython3",
   "version": "3.7.1"
  }
 },
 "nbformat": 4,
 "nbformat_minor": 2
}
