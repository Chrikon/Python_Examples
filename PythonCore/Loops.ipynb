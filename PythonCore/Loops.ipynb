{
 "cells": [
  {
   "cell_type": "markdown",
   "metadata": {},
   "source": [
    "<h1>For and While loops</h1>"
   ]
  },
  {
   "cell_type": "markdown",
   "metadata": {},
   "source": [
    "<p>Two basic mechanism in Python is the While-Do and For-Next loops, with the below syntax:</p>\n",
    "<ol><li><p>While (condition is true):<br>\n",
    "           --->Ececuteble code</p></li>\n",
    "<li><p>For i in range(integer number):<br>\n",
    "           --->Ececuteble code</p></li></ol>"
   ]
  },
  {
   "cell_type": "code",
   "execution_count": 5,
   "metadata": {},
   "outputs": [
    {
     "name": "stdout",
     "output_type": "stream",
     "text": [
      "The counter number is 0\n",
      "The counter number is 1\n",
      "The counter number is 2\n",
      "While loop ended.\n"
     ]
    }
   ],
   "source": [
    "i=0\n",
    "while (i<3):\n",
    "    print((\"The counter number is \"+str(i)))\n",
    "    i=i+1\n",
    "print(\"While loop ended.\")"
   ]
  },
  {
   "cell_type": "code",
   "execution_count": 6,
   "metadata": {},
   "outputs": [
    {
     "name": "stdout",
     "output_type": "stream",
     "text": [
      "The counter number is 0\n",
      "The counter number is 1\n",
      "The counter number is 2\n",
      "Loops ended.\n"
     ]
    }
   ],
   "source": [
    "for i in range(3):\n",
    "    print(\"The counter number is \"+str(i))\n",
    "print(\"Loops ended.\")"
   ]
  },
  {
   "cell_type": "code",
   "execution_count": 11,
   "metadata": {},
   "outputs": [
    {
     "name": "stdout",
     "output_type": "stream",
     "text": [
      "The iterator value is equal to  10\n",
      "The iterator value is equal to  100\n",
      "The iterator value is equal to  54\n",
      "The iterator value is equal to  111\n",
      "The iterator value is equal to  12\n"
     ]
    }
   ],
   "source": [
    "iteretion_space=[10,100,54,111,12]\n",
    "for i in iteretion_space:\n",
    "    print(\"The iterator value is equal to \",i)"
   ]
  },
  {
   "cell_type": "code",
   "execution_count": null,
   "metadata": {},
   "outputs": [],
   "source": []
  },
  {
   "cell_type": "code",
   "execution_count": null,
   "metadata": {},
   "outputs": [],
   "source": []
  }
 ],
 "metadata": {
  "kernelspec": {
   "display_name": "Python 3",
   "language": "python",
   "name": "python3"
  },
  "language_info": {
   "codemirror_mode": {
    "name": "ipython",
    "version": 3
   },
   "file_extension": ".py",
   "mimetype": "text/x-python",
   "name": "python",
   "nbconvert_exporter": "python",
   "pygments_lexer": "ipython3",
   "version": "3.7.1"
  }
 },
 "nbformat": 4,
 "nbformat_minor": 2
}
