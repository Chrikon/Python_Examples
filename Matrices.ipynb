{
 "cells": [
  {
   "cell_type": "markdown",
   "metadata": {},
   "source": [
    "## Matrices\n",
    "\n",
    "Προκείτε για την δομή δεδομένων που αποικονιζει αυτό που από την Άλγβρα ονομάζουμε πίνακα:<br><br>\n",
    "<center>\n",
    "    <table style=\"border:1px solid black;\">\n",
    "    <tr style=\"border:1px solid black;\"><th></th><th style=\"border:1px solid black;\">[:,0]</th><th style=\"border:1px solid black;\">[:,1]</th><th style=\"border:1px solid black;\">[:,2]</th><th style=\"border:1px solid black;\">[:,3]</th><th style=\"border:1px solid black;\">[:,4]</th></tr>\n",
    "    <tr  style=\"border:1px solid black;\"><th style=\"border:1px solid black;\">[0,:]</th><th style=\"border:1px solid black;\">\"A\"</th><th style=\"border:1px solid black;\">\"B\"</th><th style=\"border:1px solid black;\">\"C\"</th><th style=\"border:1px solid black;\">\"D\"</th><th style=\"border:1px solid black;\">\"E\"</th></tr>\n",
    "    <tr style=\"border:1px solid black;\"><th style=\"border:1px solid black;\">[1,:]</th><th style=\"border:1px solid black;\">\"F\"</th><th style=\"border:1px solid black;\">\"G\"</th><th style=\"border:1px solid black;\">\"H\"</th><th style=\"border:1px solid black;\">\"I\"</th><th style=\"border:1px solid black;\">\"J\"</th></tr>\n",
    "    </table>\n",
    "</center><br>\n",
    "\n",
    "Η σημαιολογία για να προσπελάσουμε το στοιχειο π.χ. B <br><br>\n",
    "<center>\n",
    "    <table style=\"border:1px solid black;\">\n",
    "    <tr style=\"border:1px solid black;\"><th style=\"border:1px solid black;\"></th><th style=\"border:1px solid black;\">[:,0]</th><th style=\"border:1px solid black;\">[:,1]</th><th style=\"border:1px solid black;\">[:,2]</th><th style=\"border:1px solid black;\">[:,3]</th><th style=\"border:1px solid black;\">[:,4]</th></tr>\n",
    "    <tr  style=\"border:1px solid black;\"><th style=\"border:1px solid black;\">[0,:]</th><th style=\"border:1px solid black;\">\"A\"</th><th style=\"border:5px solid red;\">\"B\"</th><th style=\"border:1px solid black;\">\"C\"</th><th style=\"border:1px solid black;\">\"D\"</th><th style=\"border:1px solid black;\">\"E\"</th></tr>\n",
    "    <tr style=\"border:1px solid black;\"><th style=\"border:1px solid black;\">[1,:]</th><th style=\"border:1px solid black;\">\"F\"</th><th style=\"border:1px solid black;\">\"G\"</th><th style=\"border:1px solid black;\">\"H\"</th><th style=\"border:1px solid black;\">\"I\"</th><th style=\"border:1px solid black;\">\"J\"</th></tr>\n",
    "    </table>\n",
    "</center><br>\n",
    "\n",
    " ειναι όπως και στην Άλγεβρα να το χαρακτηρίσουμε ως το σημείο τομής της στήλης και της γραμμής στην οποία ανήκει:<br>\n",
    " <br>\n",
    " \n",
    "<center>\n",
    "    <table style=\"border:1px solid black;\">\n",
    "        <!-- H colgroup χωρίζει τον πίνακα σε col που μπορούμε να τους δώσουμε ιδιότητες -->\n",
    "        <colgroup><col><col><col style=\"border:solid 2px yellow;\"></colgroup>\n",
    "        <tr style=\"border:1px solid black;\"><th style=\"border:1px solid black;\"></th><th style=\"border:1px solid black;\">[:,0]</th><th style=\"border:1px solid black;\">[:,1]</th><th style=\"border:1px solid black;\">[:,2]</th><th style=\"border:1px solid black;\">[:,3]</th><th style=\"border:1px solid black;\">[:,4]</th></tr>\n",
    "        <tr  style=\"border:3px solid purple;\"><th style=\"border:1px solid black;\">[0,:]</th><th style=\"border:1px solid black;\">\"A\"</th><th style=\"border:1px solid black;background-color:orange;\">\"B\"</th><th style=\"border:1px solid black;\">\"C\"</th><th style=\"border:1px solid black;\">\"D\"</th><th style=\"border:1px solid black;\">\"E\"</th></tr>\n",
    "        <tr style=\"border:1px solid black;\"><th style=\"border:1px solid black;\">[1,:]</th><th style=\"border:1px solid black;\">\"F\"</th><th style=\"border:1px solid black;\">\"G\"</th><th style=\"border:1px solid black;\">\"H\"</th><th style=\"border:1px solid black;\">\"I\"</th><th style=\"border:1px solid black;\">\"J\"</th></tr>\n",
    "    </table>\n",
    "</center><br><br>\n",
    "\n",
    "Παρακάτω θα συνεχίσουμε με το να δημιουργήσουμε τον παραπάνω πίνακα από ενα vector ή python-like list με την χρήση της βιβλιοθήκης <strong><u>numpy</u></strong>.\n"
   ]
  },
  {
   "cell_type": "code",
   "execution_count": 1,
   "metadata": {},
   "outputs": [
    {
     "name": "stdout",
     "output_type": "stream",
     "text": [
      "Reshape of the list using the default C-like method (filling the rows):\n",
      "[['A' 'B' 'C' 'D']\n",
      " ['E' 'F' 'G' 'H']]\n",
      "Reshape of the list using the default R-like,FORTRAN-like method (filling the columns):\n",
      "[['A' 'C' 'E' 'G']\n",
      " ['B' 'D' 'F' 'H']]\n"
     ]
    }
   ],
   "source": [
    "import numpy as np\n",
    "\n",
    "##Στην παρακάτω γραμμή συμβαίνουν δύο πρ΄άγματα:\n",
    "##      α.  Δημιουργούμε μια λίστα [\"A\",\"B\",\"C\",\"D\",\"E\",\"F\",\"G\",\"H\"] η καλύτερα ένα αντικείμενο\n",
    "##           τύπου numpy.\n",
    "##      β.  Την οποία κατόπιν την μεταττρέπουμε σε matrix με την χρήση της με΄θόδου reshape του εν λόγω αντικειμένου.\n",
    "\n",
    "print(\"Reshape of the list using the default C-like method (filling the rows):\")\n",
    "\n",
    "print(np.array([\"A\",\"B\",\"C\",\"D\",\"E\",\"F\",\"G\",\"H\"]).reshape((2,4)))\n",
    "\n",
    "print(\"Reshape of the list using the default R-like,FORTRAN-like method (filling the columns):\")\n",
    "\n",
    "## Στην Python ως default τρόπος διάταξης των στοιχείων όταν εκτελούμε την μέθοδο reshape είναι ότι\n",
    "## ξεκινάει και γεμίζει της γραμμές και μετά της στήλες, όπως και στην γλώσσα C. Ο εν λόγω τρόπος διάταξης μπορεί\n",
    "## να αλλάξει αν θέλουμε να συμπληρώνουμε της στήλες, όπως στην γλώσσα Fortran, R,... θα γράφαμε:\n",
    "\n",
    "print(np.array([\"A\",\"B\",\"C\",\"D\",\"E\",\"F\",\"G\",\"H\"]).reshape((2,4),order=\"F\")) ##Οπως στην Fortran\n",
    "\n",
    "## Ο default τρόπος κλήσης της μεθόδου είναι:\n",
    "## np.array([\"A\",\"B\",\"C\",\"D\",\"E\",\"F\",\"G\",\"H\"]).reshape((2,4),order=\"C\") ,όπως στην C"
   ]
  },
  {
   "cell_type": "markdown",
   "metadata": {},
   "source": [
    "### Πράξεις μεταξύ πινάκων\n"
   ]
  },
  {
   "cell_type": "code",
   "execution_count": 2,
   "metadata": {},
   "outputs": [
    {
     "name": "stdout",
     "output_type": "stream",
     "text": [
      "Matrix A\n",
      "[[ 1  2  3]\n",
      " [45  5  2]\n",
      " [33 44 55]]\n",
      "Matrix B\n",
      "[[ 10  20  30]\n",
      " [450  50  20]\n",
      " [330 440 550]]\n",
      "\n",
      "O μηχανισμός των πράξεων είναι ίδιος με την Άλγεβρα μόνο για την πρόσθεση και την αφαίρεση\n",
      "Πρόσθεση:\n",
      "[[ 11  22  33]\n",
      " [495  55  22]\n",
      " [363 484 605]]\n",
      "-------------------\n",
      "Αφαίρεση:\n",
      "[[  -9  -18  -27]\n",
      " [-405  -45  -18]\n",
      " [-297 -396 -495]]\n",
      "-------------------\n",
      "Στην διαίρεση κα τον πολλαπλασιασμό γίνεται η πράξη στοιχείο με στοιχείο\n",
      "Πολλαπλασιασμός:\n",
      "[[   10    40    90]\n",
      " [20250   250    40]\n",
      " [10890 19360 30250]]\n",
      "-------------------\n",
      "Διαίρεση:\n",
      "[[10. 10. 10.]\n",
      " [10. 10. 10.]\n",
      " [10. 10. 10.]]\n",
      "-------------------\n",
      "Ο ίδιος μηχανισμός ισχύθει αν + ή - ή * ή / τον πίνακα με ένα αριθμό\n",
      "Πρόσθεση του 2 στον πίνακα Α, ουσιαστικά γίνεται μετατροπή 2+Α->2*Ι+Α\n",
      "[[ 3  4  5]\n",
      " [47  7  4]\n",
      " [35 46 57]]\n",
      "Πολλαπλασιασμός του αριθμού 2 (scalar) με τον πίνακα Α, δουλεύει όπως και στην Άλγεβρα:\n",
      "[[  2   4   6]\n",
      " [ 90  10   4]\n",
      " [ 66  88 110]]\n"
     ]
    }
   ],
   "source": [
    "A=np.array([1,2,3,45,5,2,33,44,55]).reshape((3,3))\n",
    "print(\"Matrix A\")\n",
    "print(A)\n",
    "B=np.array([10,20,30,450,50,20,330,440,550]).reshape((3,3))\n",
    "print(\"Matrix B\")\n",
    "print(B)\n",
    "print(\"\")\n",
    "\n",
    "##Πρόσθεση\n",
    "print(\"O μηχανισμός των πράξεων είναι ίδιος με την Άλγεβρα μόνο για την πρόσθεση και την αφαίρεση\")\n",
    "print(\"Πρόσθεση:\")\n",
    "print(A+B)\n",
    "print(\"-------------------\")\n",
    "## Αφαίρεση\n",
    "print(\"Αφαίρεση:\")\n",
    "print(A-B)\n",
    "print(\"-------------------\")\n",
    "print(\"Στην διαίρεση κα τον πολλαπλασιασμό γίνεται η πράξη στοιχείο με στοιχείο\")\n",
    "## Πολλαπλασιασμος\n",
    "print(\"Πολλαπλασιασμός:\")\n",
    "print(A*B)\n",
    "print(\"-------------------\")\n",
    "## Διαίρεση\n",
    "print(\"Διαίρεση:\")\n",
    "print(B/A)\n",
    "print(\"-------------------\")\n",
    "print(\"Ο ίδιος μηχανισμός ισχύθει αν + ή - ή * ή / τον πίνακα με ένα αριθμό\")\n",
    "print(\"Πρόσθεση του 2 στον πίνακα Α, ουσιαστικά γίνεται μετατροπή 2+Α->2*Ι+Α\")\n",
    "print(2+A)\n",
    "print(\"Πολλαπλασιασμός του αριθμού 2 (scalar) με τον πίνακα Α, δουλεύει όπως και στην Άλγεβρα:\")\n",
    "print(2*A)"
   ]
  },
  {
   "cell_type": "code",
   "execution_count": 3,
   "metadata": {},
   "outputs": [
    {
     "name": "stdout",
     "output_type": "stream",
     "text": [
      "Αν θέλαμε να κάνουμε έναν Αλγεβρικό πολλαπλασιασμό των δύο πινάκων πρέπει να χρησιμοποιήσουμε την παρακάτω μέθοδο:\n",
      "[[ 1900  1440  1720]\n",
      " [ 3360  2030  2550]\n",
      " [38280 27060 32120]]\n"
     ]
    }
   ],
   "source": [
    "print(\"Αν θέλαμε να κάνουμε έναν Αλγεβρικό πολλαπλασιασμό των δύο πινάκων πρέπει να χρησιμοποιήσουμε την παρακάτω μέθοδο:\")\n",
    "print(np.matmul(A,B))"
   ]
  },
  {
   "cell_type": "markdown",
   "metadata": {},
   "source": [
    "### Άσκηση\n",
    "\n",
    "Από τις παρακάτω λίστες να δημιουργήσετε ένα πίνακα και να δημιουργησετε ενα γράφημα για τον Le Bron James:\n",
    "<br>\n",
    "#Salaries<br>\n",
    "KobeBryant_Salary = [15946875,17718750,19490625,21262500,23034375,24806250,25244493,27849149,30453805,23500000]<br>\n",
    "JoeJohnson_Salary = [12000000,12744189,13488377,14232567,14976754,16324500,18038573,19752645,21466718,23180790]<br>\n",
    "LeBronJames_Salary = [4621800,5828090,13041250,14410581,15779912,14500000,16022500,17545000,19067500,20644400]<br>\n",
    "CarmeloAnthony_Salary = [3713640,4694041,13041250,14410581,15779912,17149243,18518574,19450000,22407474,22458000]<br>\n",
    "DwightHoward_Salary = [4493160,4806720,6061274,13758000,15202590,16647180,18091770,19536360,20513178,21436271]<br>\n",
    "ChrisBosh_Salary = [3348000,4235220,12455000,14410581,15779912,14500000,16022500,17545000,19067500,20644400]<br>\n",
    "ChrisPaul_Salary = [3144240,3380160,3615960,4574189,13520500,14940153,16359805,17779458,18668431,20068563]<br>\n",
    "KevinDurant_Salary = [0,0,4171200,4484040,4796880,6053663,15506632,16669630,17832627,18995624]<br>\n",
    "DerrickRose_Salary = [0,0,0,4822800,5184480,5546160,6993708,16402500,17632688,18862875]<br>\n",
    "DwayneWade_Salary = [3031920,3841443,13041250,14410581,15779912,14200000,15691000,17182000,18673000,15000000]<br>"
   ]
  },
  {
   "cell_type": "code",
   "execution_count": 4,
   "metadata": {},
   "outputs": [
    {
     "name": "stdout",
     "output_type": "stream",
     "text": [
      "[[15946875 17718750 19490625 21262500 23034375 24806250 25244493 27849149\n",
      "  30453805 23500000]\n",
      " [12000000 12744189 13488377 14232567 14976754 16324500 18038573 19752645\n",
      "  21466718 23180790]\n",
      " [ 4621800  5828090 13041250 14410581 15779912 14500000 16022500 17545000\n",
      "  19067500 20644400]\n",
      " [ 3713640  4694041 13041250 14410581 15779912 17149243 18518574 19450000\n",
      "  22407474 22458000]\n",
      " [ 4493160  4806720  6061274 13758000 15202590 16647180 18091770 19536360\n",
      "  20513178 21436271]\n",
      " [ 3348000  4235220 12455000 14410581 15779912 14500000 16022500 17545000\n",
      "  19067500 20644400]\n",
      " [ 3144240  3380160  3615960  4574189 13520500 14940153 16359805 17779458\n",
      "  18668431 20068563]\n",
      " [       0        0  4171200  4484040  4796880  6053663 15506632 16669630\n",
      "  17832627 18995624]\n",
      " [       0        0        0  4822800  5184480  5546160  6993708 16402500\n",
      "  17632688 18862875]\n",
      " [ 3031920  3841443 13041250 14410581 15779912 14200000 15691000 17182000\n",
      "  18673000 15000000]]\n"
     ]
    }
   ],
   "source": [
    "#Salaries\n",
    "KobeBryant_Salary = [15946875,17718750,19490625,21262500,23034375,24806250,25244493,27849149,30453805,23500000]\n",
    "JoeJohnson_Salary = [12000000,12744189,13488377,14232567,14976754,16324500,18038573,19752645,21466718,23180790]\n",
    "LeBronJames_Salary = [4621800,5828090,13041250,14410581,15779912,14500000,16022500,17545000,19067500,20644400]\n",
    "CarmeloAnthony_Salary = [3713640,4694041,13041250,14410581,15779912,17149243,18518574,19450000,22407474,22458000]\n",
    "DwightHoward_Salary = [4493160,4806720,6061274,13758000,15202590,16647180,18091770,19536360,20513178,21436271]\n",
    "ChrisBosh_Salary = [3348000,4235220,12455000,14410581,15779912,14500000,16022500,17545000,19067500,20644400]\n",
    "ChrisPaul_Salary = [3144240,3380160,3615960,4574189,13520500,14940153,16359805,17779458,18668431,20068563]\n",
    "KevinDurant_Salary = [0,0,4171200,4484040,4796880,6053663,15506632,16669630,17832627,18995624]\n",
    "DerrickRose_Salary = [0,0,0,4822800,5184480,5546160,6993708,16402500,17632688,18862875]\n",
    "DwayneWade_Salary = [3031920,3841443,13041250,14410581,15779912,14200000,15691000,17182000,18673000,15000000]\n",
    "\n",
    "#Matrix\n",
    "Salary = np.array([KobeBryant_Salary, JoeJohnson_Salary, LeBronJames_Salary, CarmeloAnthony_Salary, DwightHoward_Salary, ChrisBosh_Salary, ChrisPaul_Salary, KevinDurant_Salary, DerrickRose_Salary, DwayneWade_Salary])\n",
    "print(Salary)"
   ]
  },
  {
   "cell_type": "markdown",
   "metadata": {},
   "source": [
    "## Εγγραφή ή Dictionary"
   ]
  },
  {
   "cell_type": "code",
   "execution_count": 5,
   "metadata": {},
   "outputs": [],
   "source": [
    "salary_dict={\"KobeBryant\":list([15946875,17718750,19490625,21262500,23034375,24806250,25244493,27849149,30453805,23500000]),\"JoeJohnson\":list([12000000,12744189,13488377,14232567,14976754,16324500,18038573,19752645,21466718,23180790]),\"LeBronJames\":list([4621800,5828090,13041250,14410581,15779912,14500000,16022500,17545000,19067500,20644400]),\"CarmeloAnthony\":list([3713640,4694041,13041250,14410581,15779912,17149243,18518574,19450000,22407474,22458000]),\"DwightHoward\":list([4493160,4806720,6061274,13758000,15202590,16647180,18091770,19536360,20513178,21436271]),\"ChrisBosh\":list([3348000,4235220,12455000,14410581,15779912,14500000,16022500,17545000,19067500,20644400]),\"ChrisPaul\":list([3144240,3380160,3615960,4574189,13520500,14940153,16359805,17779458,18668431,20068563]),\"KevinDurant\":list([0,0,4171200,4484040,4796880,6053663,15506632,16669630,17832627,18995624]),\"DerrickRose\":list([0,0,0,4822800,5184480,5546160,6993708,16402500,17632688,18862875]),\"DwayneWade\":list([3031920,3841443,13041250,14410581,15779912,14200000,15691000,17182000,18673000,15000000])}"
   ]
  },
  {
   "cell_type": "code",
   "execution_count": 6,
   "metadata": {},
   "outputs": [
    {
     "name": "stdout",
     "output_type": "stream",
     "text": [
      "[15946875, 17718750, 19490625, 21262500, 23034375, 24806250, 25244493, 27849149, 30453805, 23500000]\n"
     ]
    }
   ],
   "source": [
    "##Print all collumns ή καλύτερα τα πεδία (field) της εγγραφής (record) που αφορά στον δείκτη \"KobeBryant\"\n",
    "print(salary_dict[\"KobeBryant\"]) "
   ]
  },
  {
   "cell_type": "code",
   "execution_count": 7,
   "metadata": {},
   "outputs": [
    {
     "name": "stdout",
     "output_type": "stream",
     "text": [
      "17718750\n"
     ]
    }
   ],
   "source": [
    "print(salary_dict[\"KobeBryant\"][1]) ## Print the second column ή καλύτερα second field of the record \"KobeBryant\""
   ]
  },
  {
   "cell_type": "code",
   "execution_count": 8,
   "metadata": {},
   "outputs": [],
   "source": [
    "import matplotlib.pyplot as plt\n",
    "%matplotlib inline \n",
    "## SOS προκειμένου το γράφημα να βγαίνει μέσα στο τρέχων Jupyter Notebook\n",
    "plt.rcParams['figure.figsize']=16,8 #Αλλαγή των διαστάσεων του γραφήματος"
   ]
  },
  {
   "cell_type": "code",
   "execution_count": 9,
   "metadata": {},
   "outputs": [
    {
     "data": {
      "image/png": "[encoded data removed]",
      "text/plain": [
       "<Figure size 432x288 with 1 Axes>"
      ]
     },
     "metadata": {
      "needs_background": "light"
     },
     "output_type": "display_data"
    },
    {
     "name": "stdout",
     "output_type": "stream",
     "text": [
      "Le Bron James yearly income [ 4621800  5828090 13041250 14410581 15779912 14500000 16022500 17545000\n",
      " 19067500 20644400]\n"
     ]
    }
   ],
   "source": [
    "plt.plot(Salary[2],c=\"black\",ls=\"--\",marker=\"s\",ms=7)\n",
    "plt.show()\n",
    "print(\"Le Bron James yearly income {}\".format(Salary[2]))"
   ]
  },
  {
   "cell_type": "code",
   "execution_count": 10,
   "metadata": {},
   "outputs": [],
   "source": [
    "## Εισάγω δύο νέους π΄ίνκες \n",
    "years=list(range(2004,2015))\n",
    "p_names=[\"KobeBryant\",\"JoeJohnson\",\"LeBronJames\",\"CarmeloAnthony\",\"DwightHoward\",\"ChrisBosh\",\"ChrisPaul\",\"KevinDurant\",\"DerrickRose\",\"DwayneWade\"]"
   ]
  },
  {
   "cell_type": "code",
   "execution_count": 11,
   "metadata": {},
   "outputs": [
    {
     "data": {
      "text/plain": [
       "[2004, 2005, 2006, 2007, 2008, 2009, 2010, 2011, 2012, 2013, 2014]"
      ]
     },
     "execution_count": 11,
     "metadata": {},
     "output_type": "execute_result"
    }
   ],
   "source": [
    "years"
   ]
  },
  {
   "cell_type": "code",
   "execution_count": 12,
   "metadata": {},
   "outputs": [
    {
     "data": {
      "text/plain": [
       "['KobeBryant',\n",
       " 'JoeJohnson',\n",
       " 'LeBronJames',\n",
       " 'CarmeloAnthony',\n",
       " 'DwightHoward',\n",
       " 'ChrisBosh',\n",
       " 'ChrisPaul',\n",
       " 'KevinDurant',\n",
       " 'DerrickRose',\n",
       " 'DwayneWade']"
      ]
     },
     "execution_count": 12,
     "metadata": {},
     "output_type": "execute_result"
    }
   ],
   "source": [
    "p_names"
   ]
  },
  {
   "cell_type": "markdown",
   "metadata": {},
   "source": [
    "## Γενίκευση γραφημάτων"
   ]
  },
  {
   "cell_type": "code",
   "execution_count": 13,
   "metadata": {},
   "outputs": [
    {
     "data": {
      "image/png": "[encoded data removed]",
      "text/plain": [
       "<Figure size 432x288 with 1 Axes>"
      ]
     },
     "metadata": {
      "needs_background": "light"
     },
     "output_type": "display_data"
    }
   ],
   "source": [
    "plt.plot(salary_dict[p_names[0]],c=\"black\",ls=\"--\",marker=\"s\",ms=7,label=\"{} salary in 10^6 $\".format(p_names[0]))\n",
    "plt.show()"
   ]
  },
  {
   "cell_type": "code",
   "execution_count": 14,
   "metadata": {},
   "outputs": [],
   "source": [
    "def extended_plot(name_space):\n",
    "    color=[\"red\",\"blue\",\"yellow\",\"magenda\",\"&00ffee\"]\n",
    "    marker=[\"s\",\"o\",\"^\"]\n",
    "    lines=[\"-\",\"--\",\"-.\"]\n",
    "    for names in name_space:\n",
    "        plt.plot(salary_dict[names],c=\"black\",ls=\"-\",marker=\"s\",ms=7,label=\"{} salary in 10^6 $\".format(names))\n",
    "    plt.show()"
   ]
  },
  {
   "cell_type": "code",
   "execution_count": 15,
   "metadata": {},
   "outputs": [
    {
     "data": {
      "image/png": "[encoded data removed]",
      "text/plain": [
       "<Figure size 432x288 with 1 Axes>"
      ]
     },
     "metadata": {
      "needs_background": "light"
     },
     "output_type": "display_data"
    }
   ],
   "source": [
    "extended_plot(p_names)"
   ]
  }
 ],
 "metadata": {
  "kernelspec": {
   "display_name": "Python 3",
   "language": "python",
   "name": "python3"
  },
  "language_info": {
   "codemirror_mode": {
    "name": "ipython",
    "version": 3
   },
   "file_extension": ".py",
   "mimetype": "text/x-python",
   "name": "python",
   "nbconvert_exporter": "python",
   "pygments_lexer": "ipython3",
   "version": "3.7.1"
  }
 },
 "nbformat": 4,
 "nbformat_minor": 2
}
